{
 "cells": [
  {
   "cell_type": "code",
   "execution_count": 1,
   "metadata": {},
   "outputs": [],
   "source": [
    "from autogen import Agent, ConversableAgent"
   ]
  },
  {
   "cell_type": "code",
   "execution_count": 16,
   "metadata": {},
   "outputs": [],
   "source": [
    "from typing import Protocol, runtime_checkable\n",
    "\n",
    "@runtime_checkable\n",
    "class DependancyProtocol(Protocol):\n",
    "    pass\n",
    "\n",
    "@runtime_checkable\n",
    "class ExecutionRuntimeProtocol(Protocol):\n",
    "    pass\n",
    "\n",
    "@runtime_checkable\n",
    "class AgentWrapperProtocol(Protocol):\n",
    "    @classmethod\n",
    "    def get_dependacies(cls) -> list[DependancyProtocol]:\n",
    "        return []\n",
    "\n",
    "\n",
    "@runtime_checkable\n",
    "class SystemPackageManager(Protocol):\n",
    "    pass\n",
    "\n"
   ]
  },
  {
   "cell_type": "code",
   "execution_count": 17,
   "metadata": {},
   "outputs": [],
   "source": [
    "from pydantic import BaseModel\n",
    "\n",
    "@runtime_checkable\n",
    "class PipPackageManager(DependancyProtocol, Protocol):\n",
    "    pass\n",
    "\n",
    "\n",
    "class PipPackageDependancy(BaseModel):\n",
    "    packages: list[str]\n",
    "\n",
    "assert issubclass(PipPackageDependancy, DependancyProtocol)    "
   ]
  },
  {
   "cell_type": "code",
   "execution_count": null,
   "metadata": {},
   "outputs": [],
   "source": [
    "from abc import ABC\n",
    "\n",
    "\n",
    "@runtime_checkable\n",
    "class SystemPackageManager(DependancyProtocol, Protocol):\n",
    "    pass\n",
    "\n",
    "\n",
    "class SystemPackageDependancy(BaseModel, ABC):\n",
    "    packages: list[str]\n",
    "\n",
    "assert issubclass(SystemPackageManager, DependancyProtocol)    "
   ]
  },
  {
   "cell_type": "code",
   "execution_count": null,
   "metadata": {},
   "outputs": [],
   "source": [
    "class PlaywrightSystemPackageDependancy():\n",
    "    pass"
   ]
  },
  {
   "cell_type": "code",
   "execution_count": 18,
   "metadata": {},
   "outputs": [],
   "source": [
    "class MyAgent():\n",
    "    @classmethod\n",
    "    def get_dependacies(cls) -> list[DependancyProtocol]:\n",
    "        return []\n",
    "    \n",
    "    def run(self, *args, **kwargs):\n",
    "        pass\n",
    "\n",
    "    @classmethod\n",
    "    def register(cls, *args, **kwargs):\n",
    "        pass\n",
    "\n",
    "assert issubclass(MyAgent, AgentWrapperProtocol)\n"
   ]
  },
  {
   "cell_type": "code",
   "execution_count": null,
   "metadata": {},
   "outputs": [],
   "source": [
    "class LocalPythonRuntime:\n",
    "    def __init__(self, package_manager: PipPackageManager):\n",
    "        pass\n",
    "    pass\n",
    "\n",
    "class DockerRuntime:\n",
    "    pass\n",
    "\n",
    "assert issubclass(LocalPythonRuntime, ExecutionRuntimeProtocol)\n",
    "assert issubclass(DockerRuntime, ExecutionRuntimeProtocol)"
   ]
  },
  {
   "cell_type": "code",
   "execution_count": 22,
   "metadata": {},
   "outputs": [],
   "source": [
    "class PipPythonPackageManager:\n",
    "    pass\n",
    "\n",
    "class UVPythonPackageManager:\n",
    "    pass\n",
    "\n",
    "assert issubclass(PipPythonPackageManager, PipPackageManager)\n",
    "assert issubclass(UVPythonPackageManager, PipPackageManager)\n"
   ]
  },
  {
   "cell_type": "markdown",
   "metadata": {},
   "source": [
    "### Default behavior: use LocalPythonRuntime for execution"
   ]
  },
  {
   "cell_type": "code",
   "execution_count": null,
   "metadata": {},
   "outputs": [],
   "source": [
    "# by default, the runtime is LocalPythonRuntime\n",
    "\n",
    "# every class supporting the AgentWrapperProtocol will be added to prepare_for call later\n",
    "agent = MyAgent()\n",
    "# if the environment is not prepared, it will call prepare_for with all \n",
    "agent.run(message=\"Hello World\")"
   ]
  },
  {
   "cell_type": "markdown",
   "metadata": {},
   "source": [
    "### We can explicitely specify ExecutionRuntime"
   ]
  },
  {
   "cell_type": "code",
   "execution_count": null,
   "metadata": {},
   "outputs": [],
   "source": [
    "# by default, the runtime is LocalPythonRuntime()\n",
    "with LocalPythonRuntime():\n",
    "    # every class supporting the AgentWrapperProtocol will be added to prepare_for call later\n",
    "    agent = MyAgent()\n",
    "    # if the environment is not prepared, it will call prepare_for with all \n",
    "    agent.run(message=\"Hello World\")"
   ]
  },
  {
   "cell_type": "code",
   "execution_count": null,
   "metadata": {},
   "outputs": [],
   "source": [
    "with LocalPythonRuntime(package_manager=UVPythonPackageManager()):\n",
    "    # every class supporting the AgentWrapperProtocol will be added to prepare_for call later\n",
    "    agent = MyAgent()\n",
    "    # if the environment is not prepared, it will call prepare_for with all \n",
    "    agent.run(message=\"Hello World\")"
   ]
  },
  {
   "cell_type": "markdown",
   "metadata": {},
   "source": [
    "### If we wish, we can prepare environment separately by calling `prepare_for`"
   ]
  },
  {
   "cell_type": "code",
   "execution_count": null,
   "metadata": {},
   "outputs": [],
   "source": [
    "runtime = LocalPythonRuntime(package_manager=UVPythonPackageManager())\n",
    "\n",
    "# that can last for a long time\n",
    "runtime.prepare_for(MyAgent, ...)\n",
    "\n",
    "with runtime:\n",
    "    # every class supporting the AgentWrapperProtocol will be added to prepare_for call later\n",
    "    agent = MyAgent()\n",
    "# prepare_for is implicitely called after the with block"
   ]
  },
  {
   "cell_type": "markdown",
   "metadata": {},
   "source": [
    "### We can also mix runtimes as follows:"
   ]
  },
  {
   "cell_type": "code",
   "execution_count": null,
   "metadata": {},
   "outputs": [],
   "source": [
    "# by default, the runtime is LocalPythonRuntime()\n",
    "with LocalPythonRuntime():\n",
    "    # every class supporting the AgentWrapperProtocol will be added to prepare_for call later\n",
    "    agent_1 = MyAgent()\n",
    "\n",
    "    with DockerRuntime():\n",
    "        # every class supporting the AgentWrapperProtocol will be added to prepare_for call later\n",
    "        agent_2 = MyAgent()\n",
    "        # if the environment is not prepared, it will call prepare_for with all \n",
    "\n",
    "# if the environment is not prepared, it will call prepare_for with all \n",
    "agent_1.initiate_chat(agent_2, message=\"Hello World\")"
   ]
  }
 ],
 "metadata": {
  "kernelspec": {
   "display_name": ".venv-3.9-core",
   "language": "python",
   "name": "python3"
  },
  "language_info": {
   "codemirror_mode": {
    "name": "ipython",
    "version": 3
   },
   "file_extension": ".py",
   "mimetype": "text/x-python",
   "name": "python",
   "nbconvert_exporter": "python",
   "pygments_lexer": "ipython3",
   "version": "3.9.21"
  }
 },
 "nbformat": 4,
 "nbformat_minor": 2
}
