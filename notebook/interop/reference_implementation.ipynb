{
 "cells": [
  {
   "cell_type": "code",
   "execution_count": 1,
   "metadata": {},
   "outputs": [],
   "source": [
    "from typing import runtime_checkable, Protocol\n",
    "import contextvars"
   ]
  },
  {
   "cell_type": "code",
   "execution_count": 2,
   "metadata": {},
   "outputs": [],
   "source": [
    "@runtime_checkable\n",
    "class PackageManager(Protocol):\n",
    "    def install(self, package: str) -> None:\n",
    "        pass\n",
    "\n",
    "class Pip(PackageManager):\n",
    "    def install(self, package: str) -> None:\n",
    "        print(f\"pip install {package}\")\n",
    "\n",
    "class Conda(PackageManager):\n",
    "    def install(self, package: str) -> None:\n",
    "        print(f\"conda install {package}\")"
   ]
  },
  {
   "cell_type": "code",
   "execution_count": 3,
   "metadata": {},
   "outputs": [],
   "source": [
    "@runtime_checkable\n",
    "class DependancyWrapperProtocol(Protocol):\n",
    "    \n",
    "    @classmethod\n",
    "    def get_dependencies(cls) -> list[str]:\n",
    "        pass\n",
    "\n",
    "    @classmethod\n",
    "    def install_additional() -> None:\n",
    "        pass"
   ]
  },
  {
   "cell_type": "code",
   "execution_count": 4,
   "metadata": {},
   "outputs": [],
   "source": [
    "current_context_manager = contextvars.ContextVar(\"current_context_manager\", default=None)\n",
    "\n",
    "@runtime_checkable\n",
    "class Runtime(Protocol):\n",
    "  \n",
    "   def prepare(self, components: set[DependancyWrapperProtocol]) -> None:\n",
    "       raise NotImplementedError\n",
    "\n",
    "   def register(self, component: DependancyWrapperProtocol) -> None:\n",
    "       raise NotImplementedError\n",
    "\n",
    "\n",
    "class LocalPythonRuntime:\n",
    "    def __init__(self, package_manager: PackageManager = None):\n",
    "        self.components: set[DependancyWrapperProtocol] = set()\n",
    "        self.package_manager = package_manager or Pip()\n",
    "\n",
    "    def register(self, component: DependancyWrapperProtocol) -> None:\n",
    "        self.components.add(type(component))\n",
    "\n",
    "    def prepare(self, components: set[DependancyWrapperProtocol]) -> None:\n",
    "        for component in components:\n",
    "            for dependency in component.get_dependencies():\n",
    "                self.package_manager.install(dependency)\n",
    "            component.install_additional()\n",
    "\n",
    "    def __enter__(self):\n",
    "        self.token = current_context_manager.set(self)\n",
    "        return self\n",
    "    \n",
    "    def __exit__(self, exc_type, exc_value, traceback):\n",
    "        self.prepare(self.components)\n",
    "        current_context_manager.reset(self.token)\n",
    "\n",
    "class RuntimeAware:\n",
    "   def __init__(self):\n",
    "       # Check if we're inside a context manager by getting the current value from contextvar\n",
    "       context_manager = current_context_manager.get(None)\n",
    "       if context_manager is not None:\n",
    "           context_manager.register(self)"
   ]
  },
  {
   "cell_type": "code",
   "execution_count": 5,
   "metadata": {},
   "outputs": [],
   "source": [
    "class MyComponent(RuntimeAware):\n",
    "    @classmethod\n",
    "    def get_dependencies(cls) -> list[str]:\n",
    "        return ['requests']\n",
    "    \n",
    "    @classmethod\n",
    "    def install_additional(cls) -> None:\n",
    "        print(\"Installing additional dependencies\")"
   ]
  },
  {
   "cell_type": "code",
   "execution_count": 6,
   "metadata": {},
   "outputs": [
    {
     "name": "stdout",
     "output_type": "stream",
     "text": [
      "pip install requests\n",
      "Installing additional dependencies\n"
     ]
    }
   ],
   "source": [
    "with LocalPythonRuntime() as runtime:\n",
    "    component = MyComponent()"
   ]
  },
  {
   "cell_type": "code",
   "execution_count": 7,
   "metadata": {},
   "outputs": [
    {
     "name": "stdout",
     "output_type": "stream",
     "text": [
      "conda install requests\n",
      "Installing additional dependencies\n",
      "pip install requests\n",
      "Installing additional dependencies\n"
     ]
    }
   ],
   "source": [
    "with LocalPythonRuntime():\n",
    "    component = MyComponent()\n",
    "    with LocalPythonRuntime(package_manager=Conda()):\n",
    "        component_conda = MyComponent()"
   ]
  }
 ],
 "metadata": {
  "kernelspec": {
   "display_name": ".venv",
   "language": "python",
   "name": "python3"
  },
  "language_info": {
   "codemirror_mode": {
    "name": "ipython",
    "version": 3
   },
   "file_extension": ".py",
   "mimetype": "text/x-python",
   "name": "python",
   "nbconvert_exporter": "python",
   "pygments_lexer": "ipython3",
   "version": "3.11.11"
  }
 },
 "nbformat": 4,
 "nbformat_minor": 2
}
